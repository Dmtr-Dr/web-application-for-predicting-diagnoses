{
  "nbformat": 4,
  "nbformat_minor": 0,
  "metadata": {
    "colab": {
      "provenance": [],
      "collapsed_sections": [
        "gjvZqaWV_4Nq"
      ]
    },
    "kernelspec": {
      "name": "python3",
      "display_name": "Python 3"
    },
    "language_info": {
      "name": "python"
    },
    "gpuClass": "standard"
  },
  "cells": [
    {
      "cell_type": "markdown",
      "source": [
        "# Импорт библиотек"
      ],
      "metadata": {
        "id": "gjvZqaWV_4Nq"
      }
    },
    {
      "cell_type": "code",
      "source": [
        "!pip install aiogram\n",
        "!pip install nest_asyncio"
      ],
      "metadata": {
        "colab": {
          "base_uri": "https://localhost:8080/"
        },
        "id": "dX9Va1sUR_1y",
        "outputId": "b27c43e8-9740-4960-c47d-25ad07859a6b"
      },
      "execution_count": 34,
      "outputs": [
        {
          "output_type": "stream",
          "name": "stdout",
          "text": [
            "Looking in indexes: https://pypi.org/simple, https://us-python.pkg.dev/colab-wheels/public/simple/\n",
            "Requirement already satisfied: aiogram in /usr/local/lib/python3.10/dist-packages (2.25.1)\n",
            "Requirement already satisfied: Babel<2.10.0,>=2.9.1 in /usr/local/lib/python3.10/dist-packages (from aiogram) (2.9.1)\n",
            "Requirement already satisfied: magic-filter>=1.0.9 in /usr/local/lib/python3.10/dist-packages (from aiogram) (1.0.9)\n",
            "Requirement already satisfied: certifi>=2021.10.8 in /usr/local/lib/python3.10/dist-packages (from aiogram) (2022.12.7)\n",
            "Requirement already satisfied: aiohttp<3.9.0,>=3.8.0 in /usr/local/lib/python3.10/dist-packages (from aiogram) (3.8.4)\n",
            "Requirement already satisfied: charset-normalizer<4.0,>=2.0 in /usr/local/lib/python3.10/dist-packages (from aiohttp<3.9.0,>=3.8.0->aiogram) (2.0.12)\n",
            "Requirement already satisfied: attrs>=17.3.0 in /usr/local/lib/python3.10/dist-packages (from aiohttp<3.9.0,>=3.8.0->aiogram) (23.1.0)\n",
            "Requirement already satisfied: aiosignal>=1.1.2 in /usr/local/lib/python3.10/dist-packages (from aiohttp<3.9.0,>=3.8.0->aiogram) (1.3.1)\n",
            "Requirement already satisfied: yarl<2.0,>=1.0 in /usr/local/lib/python3.10/dist-packages (from aiohttp<3.9.0,>=3.8.0->aiogram) (1.9.2)\n",
            "Requirement already satisfied: async-timeout<5.0,>=4.0.0a3 in /usr/local/lib/python3.10/dist-packages (from aiohttp<3.9.0,>=3.8.0->aiogram) (4.0.2)\n",
            "Requirement already satisfied: frozenlist>=1.1.1 in /usr/local/lib/python3.10/dist-packages (from aiohttp<3.9.0,>=3.8.0->aiogram) (1.3.3)\n",
            "Requirement already satisfied: multidict<7.0,>=4.5 in /usr/local/lib/python3.10/dist-packages (from aiohttp<3.9.0,>=3.8.0->aiogram) (6.0.4)\n",
            "Requirement already satisfied: pytz>=2015.7 in /usr/local/lib/python3.10/dist-packages (from Babel<2.10.0,>=2.9.1->aiogram) (2022.7.1)\n",
            "Requirement already satisfied: idna>=2.0 in /usr/local/lib/python3.10/dist-packages (from yarl<2.0,>=1.0->aiohttp<3.9.0,>=3.8.0->aiogram) (3.4)\n",
            "Looking in indexes: https://pypi.org/simple, https://us-python.pkg.dev/colab-wheels/public/simple/\n",
            "Requirement already satisfied: nest_asyncio in /usr/local/lib/python3.10/dist-packages (1.5.6)\n"
          ]
        }
      ]
    },
    {
      "cell_type": "code",
      "source": [
        "from aiogram import Bot, types\n",
        "from aiogram.dispatcher import Dispatcher, FSMContext\n",
        "from aiogram.dispatcher.filters.state import State, StatesGroup\n",
        "from aiogram.utils import executor\n",
        "from aiogram.types import ReplyKeyboardMarkup, KeyboardButton, ReplyKeyboardRemove\n",
        "from aiogram.contrib.fsm_storage.memory import MemoryStorage\n",
        "import sqlite3 as sq\n",
        "import nest_asyncio\n",
        "import requests\n",
        "import io\n",
        "from io import BytesIO\n",
        "from PIL import Image\n",
        "import numpy as np\n",
        "\n",
        "import tensorflow as tf\n",
        "from tensorflow.keras.models import Sequential\n",
        "from tensorflow.keras.layers import Conv2D, MaxPooling2D, Flatten, Dense, Activation, Dropout, BatchNormalization\n",
        "from tensorflow.keras import regularizers\n",
        "from tensorflow.keras.optimizers import Adam, Adamax"
      ],
      "metadata": {
        "id": "4htAMj7khewG"
      },
      "execution_count": 35,
      "outputs": []
    },
    {
      "cell_type": "markdown",
      "source": [
        "# Импорт моделей"
      ],
      "metadata": {
        "id": "508GMocD_79a"
      }
    },
    {
      "cell_type": "code",
      "source": [
        "img_size = (224, 224)\n",
        "channels = 3\n",
        "img_shape = (img_size[0], img_size[1], channels)"
      ],
      "metadata": {
        "id": "J2tb0czN_-l3"
      },
      "execution_count": 36,
      "outputs": []
    },
    {
      "cell_type": "code",
      "source": [
        "class_count_xray = 3\n",
        "class_count_scan = 4\n",
        "class_count_mri = 15\n"
      ],
      "metadata": {
        "id": "h_EarNFsASj-"
      },
      "execution_count": 37,
      "outputs": []
    },
    {
      "cell_type": "code",
      "source": [
        "base_model_xray = tf.keras.applications.xception.Xception(include_top= False, \n",
        "                                                               weights= \"imagenet\", \n",
        "                                                               input_shape= img_shape, \n",
        "                                                               pooling= 'max')\n",
        "\n",
        "model_xray = Sequential([\n",
        "    base_model_xray,\n",
        "    BatchNormalization(axis= -1, momentum= 0.99, epsilon= 0.001),\n",
        "    Dense(256, \n",
        "          kernel_regularizer= regularizers.l2(l= 0.016), \n",
        "          activity_regularizer= regularizers.l1(0.006),\n",
        "          bias_regularizer= regularizers.l1(0.006), \n",
        "          activation= 'relu'),\n",
        "    \n",
        "    Dropout(rate= 0.45, \n",
        "            seed= 123),\n",
        "    \n",
        "    Dense(class_count_xray, activation= 'softmax')\n",
        "])\n",
        "\n",
        "model_xray.compile(Adamax(learning_rate= 0.001), loss= 'categorical_crossentropy', metrics= ['accuracy'])\n",
        "\n",
        "model_xray.summary()\n",
        "\n",
        "model_xray.load_weights('/content/drive/MyDrive/Colab Notebooks/ВКР/xray_Xception_model_weights.h5')"
      ],
      "metadata": {
        "colab": {
          "base_uri": "https://localhost:8080/"
        },
        "id": "6GdwcqzSqwKc",
        "outputId": "49f4a931-93f9-4b94-c683-24fa27f6dde0"
      },
      "execution_count": 38,
      "outputs": [
        {
          "output_type": "stream",
          "name": "stdout",
          "text": [
            "Model: \"sequential_6\"\n",
            "_________________________________________________________________\n",
            " Layer (type)                Output Shape              Param #   \n",
            "=================================================================\n",
            " xception (Functional)       (None, 2048)              20861480  \n",
            "                                                                 \n",
            " batch_normalization_26 (Bat  (None, 2048)             8192      \n",
            " chNormalization)                                                \n",
            "                                                                 \n",
            " dense_12 (Dense)            (None, 256)               524544    \n",
            "                                                                 \n",
            " dropout_6 (Dropout)         (None, 256)               0         \n",
            "                                                                 \n",
            " dense_13 (Dense)            (None, 3)                 771       \n",
            "                                                                 \n",
            "=================================================================\n",
            "Total params: 21,394,987\n",
            "Trainable params: 21,336,363\n",
            "Non-trainable params: 58,624\n",
            "_________________________________________________________________\n"
          ]
        }
      ]
    },
    {
      "cell_type": "code",
      "source": [
        "# Получение метки класса из выходного вектора нейронной сети\n",
        "def get_class_label_xray(result):\n",
        "    predicted_class = np.argmax(result)\n",
        "    class_names = ['bacteria', 'nor', 'virus']\n",
        "    if predicted_class == 1:\n",
        "      return 'Всё хорошо, нет причин для беспокойства'\n",
        "    else:\n",
        "      return 'Подозрение на вид пневмонии: '+ class_names[predicted_class]\n"
      ],
      "metadata": {
        "id": "EJfSRroOq7_s"
      },
      "execution_count": 39,
      "outputs": []
    },
    {
      "cell_type": "code",
      "source": [
        "base_model_scan = tf.keras.applications.xception.Xception(include_top= False, \n",
        "                                                               weights= \"imagenet\", \n",
        "                                                               input_shape= img_shape, \n",
        "                                                               pooling= 'max')\n",
        "\n",
        "model_scan = Sequential([\n",
        "    base_model_scan,\n",
        "    BatchNormalization(axis= -1, momentum= 0.99, epsilon= 0.001),\n",
        "    Dense(256, \n",
        "          kernel_regularizer= regularizers.l2(l= 0.016), \n",
        "          activity_regularizer= regularizers.l1(0.006),\n",
        "          bias_regularizer= regularizers.l1(0.006), \n",
        "          activation= 'relu'),\n",
        "    \n",
        "    Dropout(rate= 0.45, \n",
        "            seed= 123),\n",
        "    \n",
        "    Dense(class_count_scan, activation= 'softmax')\n",
        "])\n",
        "\n",
        "model_scan.compile(Adamax(learning_rate= 0.001), loss= 'categorical_crossentropy', metrics= ['accuracy'])\n",
        "\n",
        "model_scan.summary()\n",
        "\n",
        "model_scan.load_weights('/content/drive/MyDrive/Colab Notebooks/ВКР/scan_Xception_model_weights.h5')"
      ],
      "metadata": {
        "colab": {
          "base_uri": "https://localhost:8080/"
        },
        "outputId": "72a33c3c-3697-4d4e-e231-35e5ad627660",
        "id": "cHd0s-GAELuG"
      },
      "execution_count": 40,
      "outputs": [
        {
          "output_type": "stream",
          "name": "stdout",
          "text": [
            "Model: \"sequential_7\"\n",
            "_________________________________________________________________\n",
            " Layer (type)                Output Shape              Param #   \n",
            "=================================================================\n",
            " xception (Functional)       (None, 2048)              20861480  \n",
            "                                                                 \n",
            " batch_normalization_31 (Bat  (None, 2048)             8192      \n",
            " chNormalization)                                                \n",
            "                                                                 \n",
            " dense_14 (Dense)            (None, 256)               524544    \n",
            "                                                                 \n",
            " dropout_7 (Dropout)         (None, 256)               0         \n",
            "                                                                 \n",
            " dense_15 (Dense)            (None, 4)                 1028      \n",
            "                                                                 \n",
            "=================================================================\n",
            "Total params: 21,395,244\n",
            "Trainable params: 21,336,620\n",
            "Non-trainable params: 58,624\n",
            "_________________________________________________________________\n"
          ]
        }
      ]
    },
    {
      "cell_type": "code",
      "source": [
        "# Получение метки класса из выходного вектора нейронной сети\n",
        "def get_class_label_scan(result):\n",
        "    predicted_class = np.argmax(result)\n",
        "    class_names = ['Adenocarcinoma', 'Squamous_cell_carcinoma', 'Large_cell_carcinoma','normal']\n",
        "    if predicted_class == 3:\n",
        "      return 'Всё хорошо, нет причин для беспокойства'\n",
        "    else:\n",
        "      return 'Подозрение на: '+ class_names[predicted_class]\n"
      ],
      "metadata": {
        "id": "T4nQi06sELuf"
      },
      "execution_count": 41,
      "outputs": []
    },
    {
      "cell_type": "code",
      "source": [
        "base_model_mri = tf.keras.applications.efficientnet.EfficientNetB5(include_top= False, \n",
        "                                                               weights= \"imagenet\", \n",
        "                                                               input_shape= img_shape, \n",
        "                                                               pooling= 'max')\n",
        "\n",
        "model_mri = Sequential([\n",
        "    base_model_mri,\n",
        "    BatchNormalization(axis= -1, momentum= 0.99, epsilon= 0.001),\n",
        "    Dense(256, \n",
        "          kernel_regularizer= regularizers.l2(l= 0.016), \n",
        "          activity_regularizer= regularizers.l1(0.006),\n",
        "          bias_regularizer= regularizers.l1(0.006), \n",
        "          activation= 'relu'),\n",
        "    \n",
        "    Dropout(rate= 0.45, \n",
        "            seed= 123),\n",
        "    \n",
        "    Dense(class_count_mri, activation= 'softmax')\n",
        "])\n",
        "\n",
        "model_mri.compile(Adamax(learning_rate= 0.001), loss= 'categorical_crossentropy', metrics= ['accuracy'])\n",
        "\n",
        "model_mri.summary()\n",
        "\n",
        "model_mri.load_weights('/content/drive/MyDrive/Colab Notebooks/ВКР/MRI_EfficientNetB5_model_weights.h5')"
      ],
      "metadata": {
        "colab": {
          "base_uri": "https://localhost:8080/"
        },
        "outputId": "b2231d96-8c57-4087-8c52-e29b1aa320c7",
        "id": "1tMncekSFaAJ"
      },
      "execution_count": 42,
      "outputs": [
        {
          "output_type": "stream",
          "name": "stdout",
          "text": [
            "Model: \"sequential_8\"\n",
            "_________________________________________________________________\n",
            " Layer (type)                Output Shape              Param #   \n",
            "=================================================================\n",
            " efficientnetb5 (Functional)  (None, 2048)             28513527  \n",
            "                                                                 \n",
            " batch_normalization_32 (Bat  (None, 2048)             8192      \n",
            " chNormalization)                                                \n",
            "                                                                 \n",
            " dense_16 (Dense)            (None, 256)               524544    \n",
            "                                                                 \n",
            " dropout_8 (Dropout)         (None, 256)               0         \n",
            "                                                                 \n",
            " dense_17 (Dense)            (None, 15)                3855      \n",
            "                                                                 \n",
            "=================================================================\n",
            "Total params: 29,050,118\n",
            "Trainable params: 28,873,279\n",
            "Non-trainable params: 176,839\n",
            "_________________________________________________________________\n"
          ]
        }
      ]
    },
    {
      "cell_type": "code",
      "source": [
        "# Получение метки класса из выходного вектора нейронной сети\n",
        "def get_class_label_mri(result):\n",
        "    predicted_class = np.argmax(result)\n",
        "    class_names = ['Astrocitoma','Carcinoma',\n",
        "                   'Ependimoma','Ganglioglioma',\n",
        "                   'Germinoma','Glioblastoma',\n",
        "                   'Granuloma','Meduloblastoma',\n",
        "                   'Meningioma','Neurocitoma',\n",
        "                   'Oligodendroglioma','Papiloma',\n",
        "                   'Schwannoma','Tuberculoma',\n",
        "                   '_NORMAL']\n",
        "    if predicted_class == 14:\n",
        "      return 'Всё хорошо, нет причин для беспокойства'\n",
        "    else:\n",
        "      return 'Подозрение на: '+ class_names[predicted_class]\n"
      ],
      "metadata": {
        "id": "ibYBpYdOFaAe"
      },
      "execution_count": 43,
      "outputs": []
    },
    {
      "cell_type": "markdown",
      "source": [
        "# Работа бота"
      ],
      "metadata": {
        "id": "tpyXhH8YCqMZ"
      }
    },
    {
      "cell_type": "code",
      "source": [
        "\n",
        "storage = MemoryStorage()\n",
        "\n",
        "bot = Bot(token='')\n",
        "bot_token  = ''\n",
        "dp = Dispatcher(bot, storage=storage)\n",
        "\n",
        "\n",
        "def sql_start():\n",
        "    global base, cur\n",
        "    base = sq.connect('/content/drive/MyDrive/Colab Notebooks/ВКР/users.db')\n",
        "    cur = base.cursor()\n",
        "    if base:\n",
        "        print('Data base connected OK!')\n",
        "    base.execute('CREATE TABLE IF NOT EXISTS users_picture(picture TEXT,research TEXT, id_user PRIMARY KEY)')\n",
        "    base.commit()\n",
        "\n",
        "\n",
        "async def sql_add_command(state):\n",
        "    async with state.proxy() as data:\n",
        "        cur.execute('INSERT INTO users_picture VALUES(?,?,?)', tuple(data.values()))\n",
        "        base.commit()\n",
        "\n",
        "\n",
        "async def sql_update_command(state):\n",
        "    async with state.proxy() as data:\n",
        "        cur.execute('UPDATE users_picture SET picture = ? WHERE users_id = ?', tuple(data.values())[::2])\n",
        "        cur.execute('UPDATE users_picture SET research = ? WHERE users_id = ?', tuple(data.values())[1:])\n",
        "        base.commit()\n",
        "\n",
        "\n",
        "\n",
        "def on_startup():\n",
        "    print(\"Бот вышел в  онлайн\")\n",
        "    sql_start()\n",
        "\n",
        "\n",
        "class FSM_picture(StatesGroup):\n",
        "    picture = State()\n",
        "    research = State()\n",
        "    id_user = State()\n",
        "\n",
        "b0 = KeyboardButton('Сделать запрос')\n",
        "b1 = KeyboardButton('xray')\n",
        "b2 = KeyboardButton('scan')\n",
        "b3 = KeyboardButton('mri')\n",
        "\n",
        "zero_client = ReplyKeyboardMarkup(resize_keyboard=True,one_time_keyboard=True)\n",
        "zero_client.add(b0)\n",
        "\n",
        "first_client = ReplyKeyboardMarkup(resize_keyboard=True)\n",
        "first_client.add(b1).add(b2).add(b3)\n",
        "\n",
        "@dp.message_handler(commands=['start'])\n",
        "async def command_start(message: types.Message):\n",
        "    await bot.send_message(message.from_user.id, 'Привет, я - бот, который может проанализировать изображение. Выбери пункт меню, который тебе интересен',\n",
        "                           reply_markup=zero_client)\n",
        "\n",
        "\n",
        "@dp.message_handler(lambda message: \"Начать\" in message.text)\n",
        "async def commands_begin(message: types.Message):\n",
        "    await bot.send_message(message.from_user.id, 'Привет, я - бот, который может проанализировать изображение. Выбери пункт меню, который тебе интересен',\n",
        "                           reply_markup=zero_client)\n",
        "    \n",
        "\n",
        "@dp.message_handler(lambda message: \"Сделать запрос\" in message.text)\n",
        "async def cm_start(message: types.Message):\n",
        "    await FSM_picture.picture.set()\n",
        "    await bot.send_message(message.from_user.id, 'Пришли в ответном сообщении изображение, которое нужно проанализировать')\n",
        "\n",
        "\n",
        "@dp.message_handler(content_types=['photo'],state=FSM_picture.picture)\n",
        "async def load_picture(message: types.Message, state: FSMContext):\n",
        "    async with state.proxy() as data:\n",
        "      data['picture'] = message.photo[-1].file_id\n",
        "      await message.answer('Изображение получено, теперь укажи тип исседования:\\n xray - Проверка на пневмонию \\n scan - Проверка на заболевания грудной клетки \\n mri - МРТ головного мозга',reply_markup=first_client)  \n",
        "    await FSM_picture.next()\n",
        "\n",
        "@dp.message_handler(state=FSM_picture.research)\n",
        "async def load_research(message: types.Message, state: FSMContext):\n",
        "    async with state.proxy() as data:\n",
        "      if message.text == 'xray':\n",
        "        data['research'] = 'xray'\n",
        "\n",
        "        file_info = await bot.get_file(data['picture'])\n",
        "        file_url = f'https://api.telegram.org/file/bot{bot_token}/{file_info.file_path}'\n",
        "        response = requests.get(file_url)\n",
        "        img = Image.open(io.BytesIO(response.content))\n",
        "        img = img.convert('RGB')\n",
        "        img = img.resize((224, 224)) \n",
        "        img_array = np.array(img)\n",
        "        \n",
        "        await message.answer('Изображение получено, выполняю обработку')\n",
        "        \n",
        "        result = model_xray.predict(np.array([img_array]))\n",
        "        class_label = get_class_label_xray(result)\n",
        "\n",
        "        await message.answer(f\"Предсказанная метка класса: {class_label}\",reply_markup=zero_client)\n",
        "\n",
        "      if message.text == 'scan':\n",
        "        data['research'] = 'scan'\n",
        "\n",
        "        file_info = await bot.get_file(data['picture'])\n",
        "        file_url = f'https://api.telegram.org/file/bot{bot_token}/{file_info.file_path}'\n",
        "        response = requests.get(file_url)\n",
        "        img = Image.open(io.BytesIO(response.content))\n",
        "        img = img.convert('RGB')\n",
        "        img = img.resize((224, 224)) \n",
        "        img_array = np.array(img)\n",
        "        \n",
        "        await message.answer('Изображение получено, выполняю обработку')\n",
        "        \n",
        "        result = model_scan.predict(np.array([img_array]))\n",
        "        class_label = get_class_label_scan(result)\n",
        "\n",
        "        await message.answer(f\"Предсказанная метка класса: {class_label}\",reply_markup=zero_client)\n",
        "\n",
        "      if message.text == 'mri':\n",
        "        data['research'] = 'mri'\n",
        "\n",
        "        file_info = await bot.get_file(data['picture'])\n",
        "        file_url = f'https://api.telegram.org/file/bot{bot_token}/{file_info.file_path}'\n",
        "        response = requests.get(file_url)\n",
        "        img = Image.open(io.BytesIO(response.content))\n",
        "        img = img.convert('RGB')\n",
        "        img = img.resize((224, 224)) \n",
        "        img_array = np.array(img)\n",
        "        \n",
        "        await message.answer('Изображение получено, выполняю обработку')\n",
        "        \n",
        "        result = model_mri.predict(np.array([img_array]))\n",
        "        class_label = get_class_label_mri(result)\n",
        "\n",
        "        await message.answer(f\"Предсказанная метка класса: {class_label}\",reply_markup=zero_client)\n",
        "      else:\n",
        "        data['research'] = 'none'\n",
        "\n",
        "    async with state.proxy() as data:\n",
        "        data['id_user'] = message.from_user.id\n",
        "    for ret in cur.execute('SELECT * FROM users_picture').fetchall():\n",
        "        if message.from_user.id == ret[2]:\n",
        "            await sql_update_command(state)\n",
        "        else:\n",
        "            await sql_add_command(state)\n",
        "    await state.finish()\n",
        "\n",
        "@dp.message_handler()\n",
        "async def echo_send(message: types.Message):\n",
        "    await message.answer('Простите, но я не понимаю ваш запрос. Не могли бы вы сказать иначе?')\n",
        "\n"
      ],
      "metadata": {
        "id": "WyIuJfeRA5HS"
      },
      "execution_count": 44,
      "outputs": []
    },
    {
      "cell_type": "markdown",
      "source": [
        "# Запуск бота"
      ],
      "metadata": {
        "id": "7ju-DJ7kClW-"
      }
    },
    {
      "cell_type": "code",
      "source": [
        "nest_asyncio.apply()\n",
        "executor.start_polling(dp, skip_updates=True, on_startup=on_startup())"
      ],
      "metadata": {
        "colab": {
          "base_uri": "https://localhost:8080/"
        },
        "id": "-Of90vn0SQ_x",
        "outputId": "0be0200b-69b8-4245-a4e2-f31e64f9e867"
      },
      "execution_count": 46,
      "outputs": [
        {
          "metadata": {
            "tags": null
          },
          "name": "stdout",
          "output_type": "stream",
          "text": [
            "Бот вышел в  онлайн\n",
            "Data base connected OK!\n"
          ]
        },
        {
          "metadata": {
            "tags": null
          },
          "name": "stderr",
          "output_type": "stream",
          "text": [
            "WARNING:aiogram:Updates were skipped successfully.\n"
          ]
        },
        {
          "metadata": {
            "tags": null
          },
          "name": "stdout",
          "output_type": "stream",
          "text": [
            "1/1 [==============================] - 0s 321ms/step\n",
            "1/1 [==============================] - 0s 227ms/step\n"
          ]
        },
        {
          "output_type": "stream",
          "name": "stderr",
          "text": [
            "WARNING:aiogram:Goodbye!\n"
          ]
        }
      ]
    }
  ]
}